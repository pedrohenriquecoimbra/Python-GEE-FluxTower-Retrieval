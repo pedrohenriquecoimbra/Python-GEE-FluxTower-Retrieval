{
 "cells": [
  {
   "cell_type": "markdown",
   "metadata": {},
   "source": [
    "Launch CMD"
   ]
  },
  {
   "cell_type": "code",
   "execution_count": 1,
   "metadata": {},
   "outputs": [
    {
     "data": {
      "text/plain": [
       "<subprocess.Popen at 0x22ca15fb250>"
      ]
     },
     "execution_count": 1,
     "metadata": {},
     "output_type": "execute_result"
    }
   ],
   "source": [
    "import os, subprocess\n",
    "rclone = f\"{os.path.expanduser('~/Documents')}/rclone-v1.66.0-windows-amd64\"\n",
    "c = f'-n FR-Gri'\n",
    "c += f' -lat 48.84422'\n",
    "c += f' -lon 1.95191'\n",
    "c += ' -START_DATE 2023-12-22'\n",
    "c += ' -END_DATE 2024-12-01'\n",
    "#c += ' --new_band_names NDVI EVI LSWI'\n",
    "#c += ' --new_band_formulas \"(NIR - RED) / (NIR + RED)\" \"2.5 * (NIR -RED) / ((NIR + 6 * RED - 7.5 * BLUE) + 1 * 10**4)\" \"(B8 - B11) / (B8 + B11)\"'\n",
    "\n",
    "c += ' --download_folder \"Grignon/Satellites/raw/\"'\n",
    "c += ' --download_to_cloud 1'\n",
    "c += f' --download_rclone_path {rclone}'\n",
    "#c += ' --download_selected_bands NDVI EVI LSWI'\n",
    "\n",
    "subprocess.Popen(f'start \"ee_google\" cmd /k python ee_google.py {c}', shell=True)"
   ]
  },
  {
   "cell_type": "markdown",
   "metadata": {},
   "source": [
    "Run on notebook"
   ]
  },
  {
   "cell_type": "code",
   "execution_count": null,
   "metadata": {},
   "outputs": [],
   "source": [
    "\"\"\"Run Earth Engine extraction\"\"\"\n",
    "import threading\n",
    "import ee_google as gee\n",
    "\n",
    "g = gee.eengine(**{\n",
    "    \"name\":         'FR-Gri',\n",
    "    \"longitude\":    1.95191,\n",
    "    \"latitude\":     48.84422,\n",
    "    \"TILE\":         '31UDQ',\n",
    "    \"START_DATE\":   \"2023-12-03\",\n",
    "    \"END_DATE\":     \"2023-12-05\",\n",
    "    #\"CLD_PRB_THRESH\": CLD_PRB_THRESH,  # %\n",
    "    #\"NIR_DRK_THRESH\": NIR_DRK_THRESH,  # ?\n",
    "    #\"CLD_PRJ_DIST\": CLD_PRJ_DIST,  # in meters\n",
    "    \"BUFFER\":       10**3,  # in meters\n",
    "}).get_collection('COPERNICUS/S2_SR_HARMONIZED')\n",
    "\n",
    "# Thread it not to freeze python for long run\n",
    "# /!\\ caution, multiple runs WILL run multiple times in google's servers\n",
    "#              resulting in duplicates on your drive\n",
    "threading.Thread(target=g.download,\n",
    "                 kwargs={\"folder\": \"data/tmp/Grignon\", \"to_cloud\": False}).start()\n"
   ]
  },
  {
   "cell_type": "markdown",
   "metadata": {},
   "source": [
    "Visualize"
   ]
  },
  {
   "cell_type": "code",
   "execution_count": 1,
   "metadata": {},
   "outputs": [
    {
     "data": {
      "application/vnd.jupyter.widget-view+json": {
       "model_id": "1df53cc61d5147f3b370eddadf2e0078",
       "version_major": 2,
       "version_minor": 0
      },
      "text/plain": [
       "Map(center=[48.84422, 1.95191], controls=(WidgetControl(options=['position', 'transparent_bg'], widget=SearchD…"
      ]
     },
     "metadata": {},
     "output_type": "display_data"
    }
   ],
   "source": [
    "import ee_google as gee\n",
    "\n",
    "g = gee.eengine(**{\n",
    "    \"name\":         'FR-Gri',\n",
    "    \"longitude\":    1.95191,\n",
    "    \"latitude\":     48.84422,\n",
    "    \"TILE\":         '31UDQ',\n",
    "    \"START_DATE\":   \"2021-12-03\",\n",
    "    \"END_DATE\":     \"2024-12-05\",\n",
    "    \"BUFFER\":       10**3,  # in meters\n",
    "}).get_collection('COPERNICUS/S2_SR_HARMONIZED').add_bands()\n",
    "\n",
    "img_viz_pms = {'image_viz_params': {\n",
    "                'NDVI composite': {'bands': ['NDVI'], 'min': -10000.0, 'max': 10000.0, 'palette': 'viridis'},\n",
    "                'true color composite': {'bands': ['TCI_R', 'TCI_G', 'TCI_B'],},\n",
    "                }}\n",
    "g.s2_cloud_free(CLD_PRB_THRESH=10).show(collection='COPERNICUS/S2_SR_HARMONIZED_cloudless', zoom=13, **img_viz_pms)\n"
   ]
  }
 ],
 "metadata": {
  "kernelspec": {
   "display_name": "talltower",
   "language": "python",
   "name": "python3"
  },
  "language_info": {
   "codemirror_mode": {
    "name": "ipython",
    "version": 3
   },
   "file_extension": ".py",
   "mimetype": "text/x-python",
   "name": "python",
   "nbconvert_exporter": "python",
   "pygments_lexer": "ipython3",
   "version": "3.8.12"
  }
 },
 "nbformat": 4,
 "nbformat_minor": 2
}
